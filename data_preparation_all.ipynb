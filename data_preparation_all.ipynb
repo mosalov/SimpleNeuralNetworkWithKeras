{
 "cells": [
  {
   "cell_type": "code",
   "execution_count": 1,
   "metadata": {
    "scrolled": false
   },
   "outputs": [],
   "source": [
    "# Загрузка зависимостей\n",
    "import numpy\n",
    "import pandas\n",
    "import matplotlib.pyplot\n",
    "from sklearn.preprocessing import StandardScaler\n",
    "from sklearn.preprocessing import MinMaxScaler"
   ]
  },
  {
   "cell_type": "code",
   "execution_count": 2,
   "metadata": {
    "scrolled": true
   },
   "outputs": [
    {
     "data": {
      "text/html": [
       "<div>\n",
       "<style scoped>\n",
       "    .dataframe tbody tr th:only-of-type {\n",
       "        vertical-align: middle;\n",
       "    }\n",
       "\n",
       "    .dataframe tbody tr th {\n",
       "        vertical-align: top;\n",
       "    }\n",
       "\n",
       "    .dataframe thead th {\n",
       "        text-align: right;\n",
       "    }\n",
       "</style>\n",
       "<table border=\"1\" class=\"dataframe\">\n",
       "  <thead>\n",
       "    <tr style=\"text-align: right;\">\n",
       "      <th></th>\n",
       "      <th>0</th>\n",
       "      <th>1</th>\n",
       "      <th>2</th>\n",
       "      <th>3</th>\n",
       "      <th>4</th>\n",
       "      <th>5</th>\n",
       "      <th>6</th>\n",
       "      <th>7</th>\n",
       "      <th>8</th>\n",
       "      <th>9</th>\n",
       "    </tr>\n",
       "  </thead>\n",
       "  <tbody>\n",
       "    <tr>\n",
       "      <th>0</th>\n",
       "      <td>adviser</td>\n",
       "      <td>32/60</td>\n",
       "      <td>125</td>\n",
       "      <td>256</td>\n",
       "      <td>6000</td>\n",
       "      <td>256</td>\n",
       "      <td>16</td>\n",
       "      <td>128</td>\n",
       "      <td>198</td>\n",
       "      <td>199</td>\n",
       "    </tr>\n",
       "    <tr>\n",
       "      <th>1</th>\n",
       "      <td>amdahl</td>\n",
       "      <td>470v/7</td>\n",
       "      <td>29</td>\n",
       "      <td>8000</td>\n",
       "      <td>32000</td>\n",
       "      <td>32</td>\n",
       "      <td>8</td>\n",
       "      <td>32</td>\n",
       "      <td>269</td>\n",
       "      <td>253</td>\n",
       "    </tr>\n",
       "    <tr>\n",
       "      <th>2</th>\n",
       "      <td>amdahl</td>\n",
       "      <td>470v/7a</td>\n",
       "      <td>29</td>\n",
       "      <td>8000</td>\n",
       "      <td>32000</td>\n",
       "      <td>32</td>\n",
       "      <td>8</td>\n",
       "      <td>32</td>\n",
       "      <td>220</td>\n",
       "      <td>253</td>\n",
       "    </tr>\n",
       "    <tr>\n",
       "      <th>3</th>\n",
       "      <td>amdahl</td>\n",
       "      <td>470v/7b</td>\n",
       "      <td>29</td>\n",
       "      <td>8000</td>\n",
       "      <td>32000</td>\n",
       "      <td>32</td>\n",
       "      <td>8</td>\n",
       "      <td>32</td>\n",
       "      <td>172</td>\n",
       "      <td>253</td>\n",
       "    </tr>\n",
       "    <tr>\n",
       "      <th>4</th>\n",
       "      <td>amdahl</td>\n",
       "      <td>470v/7c</td>\n",
       "      <td>29</td>\n",
       "      <td>8000</td>\n",
       "      <td>16000</td>\n",
       "      <td>32</td>\n",
       "      <td>8</td>\n",
       "      <td>16</td>\n",
       "      <td>132</td>\n",
       "      <td>132</td>\n",
       "    </tr>\n",
       "    <tr>\n",
       "      <th>5</th>\n",
       "      <td>amdahl</td>\n",
       "      <td>470v/b</td>\n",
       "      <td>26</td>\n",
       "      <td>8000</td>\n",
       "      <td>32000</td>\n",
       "      <td>64</td>\n",
       "      <td>8</td>\n",
       "      <td>32</td>\n",
       "      <td>318</td>\n",
       "      <td>290</td>\n",
       "    </tr>\n",
       "    <tr>\n",
       "      <th>6</th>\n",
       "      <td>amdahl</td>\n",
       "      <td>580-5840</td>\n",
       "      <td>23</td>\n",
       "      <td>16000</td>\n",
       "      <td>32000</td>\n",
       "      <td>64</td>\n",
       "      <td>16</td>\n",
       "      <td>32</td>\n",
       "      <td>367</td>\n",
       "      <td>381</td>\n",
       "    </tr>\n",
       "    <tr>\n",
       "      <th>7</th>\n",
       "      <td>amdahl</td>\n",
       "      <td>580-5850</td>\n",
       "      <td>23</td>\n",
       "      <td>16000</td>\n",
       "      <td>32000</td>\n",
       "      <td>64</td>\n",
       "      <td>16</td>\n",
       "      <td>32</td>\n",
       "      <td>489</td>\n",
       "      <td>381</td>\n",
       "    </tr>\n",
       "    <tr>\n",
       "      <th>8</th>\n",
       "      <td>amdahl</td>\n",
       "      <td>580-5860</td>\n",
       "      <td>23</td>\n",
       "      <td>16000</td>\n",
       "      <td>64000</td>\n",
       "      <td>64</td>\n",
       "      <td>16</td>\n",
       "      <td>32</td>\n",
       "      <td>636</td>\n",
       "      <td>749</td>\n",
       "    </tr>\n",
       "    <tr>\n",
       "      <th>9</th>\n",
       "      <td>amdahl</td>\n",
       "      <td>580-5880</td>\n",
       "      <td>23</td>\n",
       "      <td>32000</td>\n",
       "      <td>64000</td>\n",
       "      <td>128</td>\n",
       "      <td>32</td>\n",
       "      <td>64</td>\n",
       "      <td>1144</td>\n",
       "      <td>1238</td>\n",
       "    </tr>\n",
       "  </tbody>\n",
       "</table>\n",
       "</div>"
      ],
      "text/plain": [
       "         0         1    2      3      4    5   6    7     8     9\n",
       "0  adviser     32/60  125    256   6000  256  16  128   198   199\n",
       "1   amdahl    470v/7   29   8000  32000   32   8   32   269   253\n",
       "2   amdahl   470v/7a   29   8000  32000   32   8   32   220   253\n",
       "3   amdahl   470v/7b   29   8000  32000   32   8   32   172   253\n",
       "4   amdahl   470v/7c   29   8000  16000   32   8   16   132   132\n",
       "5   amdahl    470v/b   26   8000  32000   64   8   32   318   290\n",
       "6   amdahl  580-5840   23  16000  32000   64  16   32   367   381\n",
       "7   amdahl  580-5850   23  16000  32000   64  16   32   489   381\n",
       "8   amdahl  580-5860   23  16000  64000   64  16   32   636   749\n",
       "9   amdahl  580-5880   23  32000  64000  128  32   64  1144  1238"
      ]
     },
     "execution_count": 2,
     "metadata": {},
     "output_type": "execute_result"
    }
   ],
   "source": [
    "# Загрузка и анализ набора данных\n",
    "raw_dataset = pandas.read_csv('machine.data.csv', header=None) # Убедиться в правильности пути к файлу!\n",
    "raw_dataset.head(10) # Вывод первых 10 строк"
   ]
  },
  {
   "cell_type": "code",
   "execution_count": 3,
   "metadata": {},
   "outputs": [
    {
     "name": "stdout",
     "output_type": "stream",
     "text": [
      "(209, 10)\n"
     ]
    }
   ],
   "source": [
    "# Размер набора данных\n",
    "print(raw_dataset.shape)"
   ]
  },
  {
   "cell_type": "code",
   "execution_count": 4,
   "metadata": {},
   "outputs": [],
   "source": [
    "# Создаем набор данных, в котором будут храниться обработанные данные\n",
    "dataset = pandas.DataFrame()"
   ]
  },
  {
   "cell_type": "code",
   "execution_count": 5,
   "metadata": {},
   "outputs": [],
   "source": [
    "# Столбец №0\n",
    "data = raw_dataset[0]"
   ]
  },
  {
   "cell_type": "code",
   "execution_count": 6,
   "metadata": {},
   "outputs": [
    {
     "name": "stdout",
     "output_type": "stream",
     "text": [
      "     adviser  amdahl  apollo  basf  bti  burroughs  c.r.d  cambex  cdc  dec  \\\n",
      "0          1       0       0     0    0          0      0       0    0    0   \n",
      "1          0       1       0     0    0          0      0       0    0    0   \n",
      "2          0       1       0     0    0          0      0       0    0    0   \n",
      "3          0       1       0     0    0          0      0       0    0    0   \n",
      "4          0       1       0     0    0          0      0       0    0    0   \n",
      "..       ...     ...     ...   ...  ...        ...    ...     ...  ...  ...   \n",
      "204        0       0       0     0    0          0      0       0    0    0   \n",
      "205        0       0       0     0    0          0      0       0    0    0   \n",
      "206        0       0       0     0    0          0      0       0    0    0   \n",
      "207        0       0       0     0    0          0      0       0    0    0   \n",
      "208        0       0       0     0    0          0      0       0    0    0   \n",
      "\n",
      "     ...  microdata  nas  ncr  nixdorf  perkin-elmer  prime  siemens  sperry  \\\n",
      "0    ...          0    0    0        0             0      0        0       0   \n",
      "1    ...          0    0    0        0             0      0        0       0   \n",
      "2    ...          0    0    0        0             0      0        0       0   \n",
      "3    ...          0    0    0        0             0      0        0       0   \n",
      "4    ...          0    0    0        0             0      0        0       0   \n",
      "..   ...        ...  ...  ...      ...           ...    ...      ...     ...   \n",
      "204  ...          0    0    0        0             0      0        0       1   \n",
      "205  ...          0    0    0        0             0      0        0       1   \n",
      "206  ...          0    0    0        0             0      0        0       0   \n",
      "207  ...          0    0    0        0             0      0        0       0   \n",
      "208  ...          0    0    0        0             0      0        0       0   \n",
      "\n",
      "     sratus  wang  \n",
      "0         0     0  \n",
      "1         0     0  \n",
      "2         0     0  \n",
      "3         0     0  \n",
      "4         0     0  \n",
      "..      ...   ...  \n",
      "204       0     0  \n",
      "205       0     0  \n",
      "206       1     0  \n",
      "207       0     1  \n",
      "208       0     1  \n",
      "\n",
      "[209 rows x 30 columns]\n"
     ]
    }
   ],
   "source": [
    "new_data = pandas.get_dummies(data)\n",
    "print(new_data)"
   ]
  },
  {
   "cell_type": "code",
   "execution_count": 7,
   "metadata": {
    "scrolled": true
   },
   "outputs": [],
   "source": [
    "dataset = new_data"
   ]
  },
  {
   "cell_type": "code",
   "execution_count": 8,
   "metadata": {
    "scrolled": true
   },
   "outputs": [
    {
     "name": "stdout",
     "output_type": "stream",
     "text": [
      "     adviser  amdahl  apollo  basf  bti  burroughs  c.r.d  cambex  cdc  dec  \\\n",
      "0          1       0       0     0    0          0      0       0    0    0   \n",
      "1          0       1       0     0    0          0      0       0    0    0   \n",
      "2          0       1       0     0    0          0      0       0    0    0   \n",
      "3          0       1       0     0    0          0      0       0    0    0   \n",
      "4          0       1       0     0    0          0      0       0    0    0   \n",
      "..       ...     ...     ...   ...  ...        ...    ...     ...  ...  ...   \n",
      "204        0       0       0     0    0          0      0       0    0    0   \n",
      "205        0       0       0     0    0          0      0       0    0    0   \n",
      "206        0       0       0     0    0          0      0       0    0    0   \n",
      "207        0       0       0     0    0          0      0       0    0    0   \n",
      "208        0       0       0     0    0          0      0       0    0    0   \n",
      "\n",
      "     ...  microdata  nas  ncr  nixdorf  perkin-elmer  prime  siemens  sperry  \\\n",
      "0    ...          0    0    0        0             0      0        0       0   \n",
      "1    ...          0    0    0        0             0      0        0       0   \n",
      "2    ...          0    0    0        0             0      0        0       0   \n",
      "3    ...          0    0    0        0             0      0        0       0   \n",
      "4    ...          0    0    0        0             0      0        0       0   \n",
      "..   ...        ...  ...  ...      ...           ...    ...      ...     ...   \n",
      "204  ...          0    0    0        0             0      0        0       1   \n",
      "205  ...          0    0    0        0             0      0        0       1   \n",
      "206  ...          0    0    0        0             0      0        0       0   \n",
      "207  ...          0    0    0        0             0      0        0       0   \n",
      "208  ...          0    0    0        0             0      0        0       0   \n",
      "\n",
      "     sratus  wang  \n",
      "0         0     0  \n",
      "1         0     0  \n",
      "2         0     0  \n",
      "3         0     0  \n",
      "4         0     0  \n",
      "..      ...   ...  \n",
      "204       0     0  \n",
      "205       0     0  \n",
      "206       1     0  \n",
      "207       0     1  \n",
      "208       0     1  \n",
      "\n",
      "[209 rows x 30 columns]\n"
     ]
    }
   ],
   "source": [
    "print(dataset)"
   ]
  },
  {
   "cell_type": "code",
   "execution_count": 9,
   "metadata": {},
   "outputs": [
    {
     "name": "stdout",
     "output_type": "stream",
     "text": [
      "0      125\n",
      "1       29\n",
      "2       29\n",
      "3       29\n",
      "4       29\n",
      "      ... \n",
      "204    124\n",
      "205     98\n",
      "206    125\n",
      "207    480\n",
      "208    480\n",
      "Name: 2, Length: 209, dtype: int64\n"
     ]
    }
   ],
   "source": [
    "# Столбец №2\n",
    "data = raw_dataset[2]\n",
    "print(data)"
   ]
  },
  {
   "cell_type": "code",
   "execution_count": 10,
   "metadata": {
    "scrolled": true
   },
   "outputs": [
    {
     "data": {
      "image/png": "[encoded data removed]",
      "text/plain": [
       "<Figure size 432x288 with 1 Axes>"
      ]
     },
     "metadata": {
      "needs_background": "light"
     },
     "output_type": "display_data"
    }
   ],
   "source": [
    "matplotlib.pyplot.hist(data, bins = 50)\n",
    "matplotlib.pyplot.show()"
   ]
  },
  {
   "cell_type": "code",
   "execution_count": 11,
   "metadata": {
    "scrolled": true
   },
   "outputs": [
    {
     "data": {
      "image/png": "[encoded data removed]",
      "text/plain": [
       "<Figure size 432x288 with 1 Axes>"
      ]
     },
     "metadata": {
      "needs_background": "light"
     },
     "output_type": "display_data"
    }
   ],
   "source": [
    "matplotlib.pyplot.hist(numpy.log(data), bins = 50)\n",
    "matplotlib.pyplot.show()"
   ]
  },
  {
   "cell_type": "code",
   "execution_count": 12,
   "metadata": {},
   "outputs": [],
   "source": [
    "data = numpy.log(data)"
   ]
  },
  {
   "cell_type": "code",
   "execution_count": 13,
   "metadata": {
    "scrolled": true
   },
   "outputs": [
    {
     "name": "stdout",
     "output_type": "stream",
     "text": [
      "2.833213344056216\n",
      "7.313220387090301\n"
     ]
    }
   ],
   "source": [
    "print(numpy.min(data))\n",
    "print(numpy.max(data))"
   ]
  },
  {
   "cell_type": "code",
   "execution_count": 14,
   "metadata": {
    "scrolled": true
   },
   "outputs": [
    {
     "name": "stdout",
     "output_type": "stream",
     "text": [
      "0.0\n",
      "1.0\n"
     ]
    },
    {
     "data": {
      "image/png": "[encoded data removed]",
      "text/plain": [
       "<Figure size 432x288 with 1 Axes>"
      ]
     },
     "metadata": {
      "needs_background": "light"
     },
     "output_type": "display_data"
    }
   ],
   "source": [
    "scaler = MinMaxScaler()\n",
    "data = numpy.array(data).reshape(-1,1)\n",
    "data = scaler.fit_transform(data)\n",
    "data = data.flatten()\n",
    "print(numpy.min(data))\n",
    "print(numpy.max(data))\n",
    "matplotlib.pyplot.hist(data, bins = 50)\n",
    "matplotlib.pyplot.show()"
   ]
  },
  {
   "cell_type": "code",
   "execution_count": 15,
   "metadata": {},
   "outputs": [
    {
     "name": "stdout",
     "output_type": "stream",
     "text": [
      "     adviser  amdahl  apollo  basf  bti  burroughs  c.r.d  cambex  cdc  dec  \\\n",
      "0          1       0       0     0    0          0      0       0    0    0   \n",
      "1          0       1       0     0    0          0      0       0    0    0   \n",
      "2          0       1       0     0    0          0      0       0    0    0   \n",
      "3          0       1       0     0    0          0      0       0    0    0   \n",
      "4          0       1       0     0    0          0      0       0    0    0   \n",
      "..       ...     ...     ...   ...  ...        ...    ...     ...  ...  ...   \n",
      "204        0       0       0     0    0          0      0       0    0    0   \n",
      "205        0       0       0     0    0          0      0       0    0    0   \n",
      "206        0       0       0     0    0          0      0       0    0    0   \n",
      "207        0       0       0     0    0          0      0       0    0    0   \n",
      "208        0       0       0     0    0          0      0       0    0    0   \n",
      "\n",
      "     ...  nas  ncr  nixdorf  perkin-elmer  prime  siemens  sperry  sratus  \\\n",
      "0    ...    0    0        0             0      0        0       0       0   \n",
      "1    ...    0    0        0             0      0        0       0       0   \n",
      "2    ...    0    0        0             0      0        0       0       0   \n",
      "3    ...    0    0        0             0      0        0       0       0   \n",
      "4    ...    0    0        0             0      0        0       0       0   \n",
      "..   ...  ...  ...      ...           ...    ...      ...     ...     ...   \n",
      "204  ...    0    0        0             0      0        0       1       0   \n",
      "205  ...    0    0        0             0      0        0       1       0   \n",
      "206  ...    0    0        0             0      0        0       0       1   \n",
      "207  ...    0    0        0             0      0        0       0       0   \n",
      "208  ...    0    0        0             0      0        0       0       0   \n",
      "\n",
      "     wang         2  \n",
      "0       0  0.445334  \n",
      "1       0  0.119215  \n",
      "2       0  0.119215  \n",
      "3       0  0.119215  \n",
      "4       0  0.119215  \n",
      "..    ...       ...  \n",
      "204     0  0.443541  \n",
      "205     0  0.391016  \n",
      "206     0  0.445334  \n",
      "207     1  0.745662  \n",
      "208     1  0.745662  \n",
      "\n",
      "[209 rows x 31 columns]\n"
     ]
    }
   ],
   "source": [
    "dataset['2'] = data\n",
    "print(dataset)"
   ]
  },
  {
   "cell_type": "code",
   "execution_count": 16,
   "metadata": {
    "scrolled": true
   },
   "outputs": [
    {
     "data": {
      "image/png": "[encoded data removed]",
      "text/plain": [
       "<Figure size 432x288 with 1 Axes>"
      ]
     },
     "metadata": {
      "needs_background": "light"
     },
     "output_type": "display_data"
    }
   ],
   "source": [
    "# Обработка данных в столбце №3 (MMIN: minimum main memory in kilobytes (integer))\n",
    "\n",
    "# Загружаем данные\n",
    "data = raw_dataset[3]\n",
    "\n",
    "# Анализируем распределение, используя гистограмму. Параметр bins отвечает за число столбцов в гистрограмме.\n",
    "matplotlib.pyplot.hist(data, bins = 50)\n",
    "matplotlib.pyplot.show()"
   ]
  },
  {
   "cell_type": "code",
   "execution_count": 17,
   "metadata": {
    "scrolled": false
   },
   "outputs": [
    {
     "data": {
      "image/png": "[encoded data removed]",
      "text/plain": [
       "<Figure size 432x288 with 1 Axes>"
      ]
     },
     "metadata": {
      "needs_background": "light"
     },
     "output_type": "display_data"
    }
   ],
   "source": [
    "# Наблюдаем проблему №4 - выброс в районе 32000. Применяем отсечение с разрешенным интервалом от 0 до 16000.\n",
    "data = numpy.clip(data, 0, 16000)\n",
    "\n",
    "# Результат\n",
    "matplotlib.pyplot.hist(data, bins = 50)\n",
    "matplotlib.pyplot.show()"
   ]
  },
  {
   "cell_type": "code",
   "execution_count": 18,
   "metadata": {
    "scrolled": true
   },
   "outputs": [
    {
     "data": {
      "image/png": "[encoded data removed]",
      "text/plain": [
       "<Figure size 432x288 with 1 Axes>"
      ]
     },
     "metadata": {
      "needs_background": "light"
     },
     "output_type": "display_data"
    },
    {
     "data": {
      "image/png": "[encoded data removed]",
      "text/plain": [
       "<Figure size 432x288 with 1 Axes>"
      ]
     },
     "metadata": {
      "needs_background": "light"
     },
     "output_type": "display_data"
    }
   ],
   "source": [
    "# Наблюдаем проблему №3 - очень неравномерное распределение. Попробуем применить к данным логарифм и извлечение квадратного корня.\n",
    "matplotlib.pyplot.hist(numpy.log(data), bins = 50)\n",
    "matplotlib.pyplot.show()\n",
    "\n",
    "matplotlib.pyplot.hist(data ** 0.5, bins = 50)\n",
    "matplotlib.pyplot.show()"
   ]
  },
  {
   "cell_type": "code",
   "execution_count": 19,
   "metadata": {},
   "outputs": [],
   "source": [
    "# Логарифм даёт более равномерно распределенные данные, используем его\n",
    "data = numpy.log(data)"
   ]
  },
  {
   "cell_type": "code",
   "execution_count": 20,
   "metadata": {
    "scrolled": true
   },
   "outputs": [
    {
     "name": "stdout",
     "output_type": "stream",
     "text": [
      "4.1588830833596715\n",
      "9.680344001221918\n"
     ]
    }
   ],
   "source": [
    "# Теперь данные имеют следующую область значений\n",
    "print(numpy.min(data))\n",
    "print(numpy.max(data))"
   ]
  },
  {
   "cell_type": "code",
   "execution_count": 21,
   "metadata": {},
   "outputs": [],
   "source": [
    "# Приводим значения к интервалу (0, 1), считая, что они ближе к равномерному распределению\n",
    "scaler = MinMaxScaler()\n",
    "data = numpy.array(data).reshape(-1,1)\n",
    "data = scaler.fit_transform(data)"
   ]
  },
  {
   "cell_type": "code",
   "execution_count": 22,
   "metadata": {},
   "outputs": [
    {
     "data": {
      "image/png": "[encoded data removed]",
      "text/plain": [
       "<Figure size 432x288 with 1 Axes>"
      ]
     },
     "metadata": {
      "needs_background": "light"
     },
     "output_type": "display_data"
    }
   ],
   "source": [
    "# Результат\n",
    "matplotlib.pyplot.hist(data, bins = 50)\n",
    "matplotlib.pyplot.show()"
   ]
  },
  {
   "cell_type": "code",
   "execution_count": 23,
   "metadata": {
    "scrolled": true
   },
   "outputs": [
    {
     "data": {
      "image/png": "[encoded data removed]",
      "text/plain": [
       "<Figure size 432x288 with 1 Axes>"
      ]
     },
     "metadata": {
      "needs_background": "light"
     },
     "output_type": "display_data"
    }
   ],
   "source": [
    "# Можем взглянуть на сами данные\n",
    "matplotlib.pyplot.plot(data)\n",
    "matplotlib.pyplot.show()"
   ]
  },
  {
   "cell_type": "code",
   "execution_count": 24,
   "metadata": {
    "scrolled": true
   },
   "outputs": [
    {
     "name": "stdout",
     "output_type": "stream",
     "text": [
      "2\n"
     ]
    }
   ],
   "source": [
    "# Проверяем и убеждаемся, что в процессе трансформации данные получили \"лишнее\" измерение\n",
    "print(data.ndim)"
   ]
  },
  {
   "cell_type": "code",
   "execution_count": 25,
   "metadata": {},
   "outputs": [],
   "source": [
    "# Конвертируем в одномерный массив\n",
    "data = data.flatten()"
   ]
  },
  {
   "cell_type": "code",
   "execution_count": 26,
   "metadata": {},
   "outputs": [],
   "source": [
    "# Сохраняем в итоговом наборе данных\n",
    "dataset['MMIN'] = data"
   ]
  },
  {
   "cell_type": "code",
   "execution_count": 27,
   "metadata": {
    "scrolled": true
   },
   "outputs": [
    {
     "name": "stdout",
     "output_type": "stream",
     "text": [
      "0       6000\n",
      "1      32000\n",
      "2      32000\n",
      "3      32000\n",
      "4      16000\n",
      "       ...  \n",
      "204     8000\n",
      "205     8000\n",
      "206     8000\n",
      "207     8000\n",
      "208     4000\n",
      "Name: 4, Length: 209, dtype: int64\n"
     ]
    },
    {
     "data": {
      "image/png": "[encoded data removed]",
      "text/plain": [
       "<Figure size 432x288 with 1 Axes>"
      ]
     },
     "metadata": {
      "needs_background": "light"
     },
     "output_type": "display_data"
    }
   ],
   "source": [
    "# Столбец №4\n",
    "data = raw_dataset[4]\n",
    "print(data)\n",
    "matplotlib.pyplot.hist(data, bins = 50)\n",
    "matplotlib.pyplot.show()"
   ]
  },
  {
   "cell_type": "code",
   "execution_count": 28,
   "metadata": {
    "scrolled": true
   },
   "outputs": [
    {
     "data": {
      "image/png": "[encoded data removed]",
      "text/plain": [
       "<Figure size 432x288 with 1 Axes>"
      ]
     },
     "metadata": {
      "needs_background": "light"
     },
     "output_type": "display_data"
    }
   ],
   "source": [
    "# Наблюдаем проблему №4 - выброс в районе 32000. Применяем отсечение с разрешенным интервалом от 0 до 16000.\n",
    "data = numpy.clip(data, 0, 32000)\n",
    "\n",
    "# Результат\n",
    "matplotlib.pyplot.hist(data, bins = 50)\n",
    "matplotlib.pyplot.show()"
   ]
  },
  {
   "cell_type": "code",
   "execution_count": 29,
   "metadata": {
    "scrolled": true
   },
   "outputs": [
    {
     "data": {
      "image/png": "[encoded data removed]",
      "text/plain": [
       "<Figure size 432x288 with 1 Axes>"
      ]
     },
     "metadata": {
      "needs_background": "light"
     },
     "output_type": "display_data"
    },
    {
     "data": {
      "image/png": "[encoded data removed]",
      "text/plain": [
       "<Figure size 432x288 with 1 Axes>"
      ]
     },
     "metadata": {
      "needs_background": "light"
     },
     "output_type": "display_data"
    }
   ],
   "source": [
    "matplotlib.pyplot.hist(numpy.log(data), bins = 50)\n",
    "matplotlib.pyplot.show()\n",
    "\n",
    "matplotlib.pyplot.hist(data ** 0.5, bins = 50)\n",
    "matplotlib.pyplot.show()"
   ]
  },
  {
   "cell_type": "code",
   "execution_count": 30,
   "metadata": {
    "scrolled": true
   },
   "outputs": [
    {
     "data": {
      "image/png": "[encoded data removed]",
      "text/plain": [
       "<Figure size 432x288 with 1 Axes>"
      ]
     },
     "metadata": {
      "needs_background": "light"
     },
     "output_type": "display_data"
    }
   ],
   "source": [
    "data = data ** 0.5\n",
    "sscaler = MinMaxScaler()\n",
    "data = numpy.array(data).reshape(-1,1)\n",
    "data = scaler.fit_transform(data)\n",
    "data = data.flatten()\n",
    "matplotlib.pyplot.hist(data, bins = 50)\n",
    "matplotlib.pyplot.show()"
   ]
  },
  {
   "cell_type": "code",
   "execution_count": 31,
   "metadata": {
    "scrolled": true
   },
   "outputs": [
    {
     "name": "stdout",
     "output_type": "stream",
     "text": [
      "     adviser  amdahl  apollo  basf  bti  burroughs  c.r.d  cambex  cdc  dec  \\\n",
      "0          1       0       0     0    0          0      0       0    0    0   \n",
      "1          0       1       0     0    0          0      0       0    0    0   \n",
      "2          0       1       0     0    0          0      0       0    0    0   \n",
      "3          0       1       0     0    0          0      0       0    0    0   \n",
      "4          0       1       0     0    0          0      0       0    0    0   \n",
      "..       ...     ...     ...   ...  ...        ...    ...     ...  ...  ...   \n",
      "204        0       0       0     0    0          0      0       0    0    0   \n",
      "205        0       0       0     0    0          0      0       0    0    0   \n",
      "206        0       0       0     0    0          0      0       0    0    0   \n",
      "207        0       0       0     0    0          0      0       0    0    0   \n",
      "208        0       0       0     0    0          0      0       0    0    0   \n",
      "\n",
      "     ...  nixdorf  perkin-elmer  prime  siemens  sperry  sratus  wang  \\\n",
      "0    ...        0             0      0        0       0       0     0   \n",
      "1    ...        0             0      0        0       0       0     0   \n",
      "2    ...        0             0      0        0       0       0     0   \n",
      "3    ...        0             0      0        0       0       0     0   \n",
      "4    ...        0             0      0        0       0       0     0   \n",
      "..   ...      ...           ...    ...      ...     ...     ...   ...   \n",
      "204  ...        0             0      0        0       1       0     0   \n",
      "205  ...        0             0      0        0       1       0     0   \n",
      "206  ...        0             0      0        0       0       1     0   \n",
      "207  ...        0             0      0        0       0       0     1   \n",
      "208  ...        0             0      0        0       0       0     1   \n",
      "\n",
      "            2      MMIN         4  \n",
      "0    0.445334  0.251074  0.406469  \n",
      "1    0.119215  0.874463  1.000000  \n",
      "2    0.119215  0.874463  1.000000  \n",
      "3    0.119215  0.874463  1.000000  \n",
      "4    0.119215  0.874463  0.693395  \n",
      "..        ...       ...       ...  \n",
      "204  0.443541  0.497852  0.476593  \n",
      "205  0.391016  0.497852  0.476593  \n",
      "206  0.445334  0.623389  0.476593  \n",
      "207  0.745662  0.376611  0.476593  \n",
      "208  0.745662  0.497852  0.323290  \n",
      "\n",
      "[209 rows x 33 columns]\n"
     ]
    }
   ],
   "source": [
    "dataset['4'] = data\n",
    "print(dataset)"
   ]
  },
  {
   "cell_type": "code",
   "execution_count": 32,
   "metadata": {
    "scrolled": true
   },
   "outputs": [
    {
     "name": "stdout",
     "output_type": "stream",
     "text": [
      "0      256\n",
      "1       32\n",
      "2       32\n",
      "3       32\n",
      "4       32\n",
      "      ... \n",
      "204      0\n",
      "205     32\n",
      "206      0\n",
      "207     32\n",
      "208      0\n",
      "Name: 5, Length: 209, dtype: int64\n"
     ]
    },
    {
     "data": {
      "image/png": "[encoded data removed]",
      "text/plain": [
       "<Figure size 432x288 with 1 Axes>"
      ]
     },
     "metadata": {
      "needs_background": "light"
     },
     "output_type": "display_data"
    }
   ],
   "source": [
    "# Столбец №5\n",
    "data = raw_dataset[5]\n",
    "print(data)\n",
    "matplotlib.pyplot.hist(data, bins = 50)\n",
    "matplotlib.pyplot.show()"
   ]
  },
  {
   "cell_type": "code",
   "execution_count": 33,
   "metadata": {
    "scrolled": true
   },
   "outputs": [
    {
     "data": {
      "image/png": "[encoded data removed]",
      "text/plain": [
       "<Figure size 432x288 with 1 Axes>"
      ]
     },
     "metadata": {
      "needs_background": "light"
     },
     "output_type": "display_data"
    }
   ],
   "source": [
    "data = numpy.clip(data, 0, 170)\n",
    "\n",
    "# Результат\n",
    "matplotlib.pyplot.hist(data, bins = 50)\n",
    "matplotlib.pyplot.show()"
   ]
  },
  {
   "cell_type": "code",
   "execution_count": 34,
   "metadata": {
    "scrolled": true
   },
   "outputs": [
    {
     "data": {
      "image/png": "[encoded data removed]",
      "text/plain": [
       "<Figure size 432x288 with 1 Axes>"
      ]
     },
     "metadata": {
      "needs_background": "light"
     },
     "output_type": "display_data"
    }
   ],
   "source": [
    "matplotlib.pyplot.hist(data ** 0.5, bins = 50)\n",
    "matplotlib.pyplot.show()"
   ]
  },
  {
   "cell_type": "code",
   "execution_count": 35,
   "metadata": {
    "scrolled": true
   },
   "outputs": [
    {
     "data": {
      "image/png": "[encoded data removed]",
      "text/plain": [
       "<Figure size 432x288 with 1 Axes>"
      ]
     },
     "metadata": {
      "needs_background": "light"
     },
     "output_type": "display_data"
    }
   ],
   "source": [
    "data = data ** 0.5\n",
    "sscaler = MinMaxScaler()\n",
    "data = numpy.array(data).reshape(-1,1)\n",
    "data = scaler.fit_transform(data)\n",
    "data = data.flatten()\n",
    "matplotlib.pyplot.hist(data, bins = 50)\n",
    "matplotlib.pyplot.show()"
   ]
  },
  {
   "cell_type": "code",
   "execution_count": 36,
   "metadata": {
    "scrolled": true
   },
   "outputs": [
    {
     "name": "stdout",
     "output_type": "stream",
     "text": [
      "     adviser  amdahl  apollo  basf  bti  burroughs  c.r.d  cambex  cdc  dec  \\\n",
      "0          1       0       0     0    0          0      0       0    0    0   \n",
      "1          0       1       0     0    0          0      0       0    0    0   \n",
      "2          0       1       0     0    0          0      0       0    0    0   \n",
      "3          0       1       0     0    0          0      0       0    0    0   \n",
      "4          0       1       0     0    0          0      0       0    0    0   \n",
      "..       ...     ...     ...   ...  ...        ...    ...     ...  ...  ...   \n",
      "204        0       0       0     0    0          0      0       0    0    0   \n",
      "205        0       0       0     0    0          0      0       0    0    0   \n",
      "206        0       0       0     0    0          0      0       0    0    0   \n",
      "207        0       0       0     0    0          0      0       0    0    0   \n",
      "208        0       0       0     0    0          0      0       0    0    0   \n",
      "\n",
      "     ...  perkin-elmer  prime  siemens  sperry  sratus  wang         2  \\\n",
      "0    ...             0      0        0       0       0     0  0.445334   \n",
      "1    ...             0      0        0       0       0     0  0.119215   \n",
      "2    ...             0      0        0       0       0     0  0.119215   \n",
      "3    ...             0      0        0       0       0     0  0.119215   \n",
      "4    ...             0      0        0       0       0     0  0.119215   \n",
      "..   ...           ...    ...      ...     ...     ...   ...       ...   \n",
      "204  ...             0      0        0       1       0     0  0.443541   \n",
      "205  ...             0      0        0       1       0     0  0.391016   \n",
      "206  ...             0      0        0       0       1     0  0.445334   \n",
      "207  ...             0      0        0       0       0     1  0.745662   \n",
      "208  ...             0      0        0       0       0     1  0.745662   \n",
      "\n",
      "         MMIN         4         5  \n",
      "0    0.251074  0.406469  1.000000  \n",
      "1    0.874463  1.000000  0.433861  \n",
      "2    0.874463  1.000000  0.433861  \n",
      "3    0.874463  1.000000  0.433861  \n",
      "4    0.874463  0.693395  0.433861  \n",
      "..        ...       ...       ...  \n",
      "204  0.497852  0.476593  0.000000  \n",
      "205  0.497852  0.476593  0.433861  \n",
      "206  0.623389  0.476593  0.000000  \n",
      "207  0.376611  0.476593  0.433861  \n",
      "208  0.497852  0.323290  0.000000  \n",
      "\n",
      "[209 rows x 34 columns]\n"
     ]
    }
   ],
   "source": [
    "dataset['5'] = data\n",
    "print(dataset)"
   ]
  },
  {
   "cell_type": "code",
   "execution_count": 37,
   "metadata": {
    "scrolled": true
   },
   "outputs": [
    {
     "name": "stdout",
     "output_type": "stream",
     "text": [
      "0      16\n",
      "1       8\n",
      "2       8\n",
      "3       8\n",
      "4       8\n",
      "       ..\n",
      "204     1\n",
      "205     2\n",
      "206     2\n",
      "207     0\n",
      "208     0\n",
      "Name: 6, Length: 209, dtype: int64\n"
     ]
    },
    {
     "data": {
      "image/png": "[encoded data removed]",
      "text/plain": [
       "<Figure size 432x288 with 1 Axes>"
      ]
     },
     "metadata": {
      "needs_background": "light"
     },
     "output_type": "display_data"
    }
   ],
   "source": [
    "# Столбец №6\n",
    "data = raw_dataset[6]\n",
    "print(data)\n",
    "matplotlib.pyplot.hist(data, bins = 50)\n",
    "matplotlib.pyplot.show()"
   ]
  },
  {
   "cell_type": "code",
   "execution_count": 38,
   "metadata": {},
   "outputs": [
    {
     "data": {
      "image/png": "[encoded data removed]",
      "text/plain": [
       "<Figure size 432x288 with 1 Axes>"
      ]
     },
     "metadata": {
      "needs_background": "light"
     },
     "output_type": "display_data"
    }
   ],
   "source": [
    "data = numpy.clip(data, 1, 32)\n",
    "\n",
    "# Результат\n",
    "matplotlib.pyplot.hist(data, bins = 50)\n",
    "matplotlib.pyplot.show()"
   ]
  },
  {
   "cell_type": "code",
   "execution_count": 39,
   "metadata": {
    "scrolled": true
   },
   "outputs": [
    {
     "data": {
      "image/png": "[encoded data removed]",
      "text/plain": [
       "<Figure size 432x288 with 1 Axes>"
      ]
     },
     "metadata": {
      "needs_background": "light"
     },
     "output_type": "display_data"
    }
   ],
   "source": [
    "data = numpy.log(data)\n",
    "sscaler = MinMaxScaler()\n",
    "data = numpy.array(data).reshape(-1,1)\n",
    "data = scaler.fit_transform(data)\n",
    "data = data.flatten()\n",
    "matplotlib.pyplot.hist(data, bins = 50)\n",
    "matplotlib.pyplot.show()"
   ]
  },
  {
   "cell_type": "code",
   "execution_count": 40,
   "metadata": {},
   "outputs": [
    {
     "name": "stdout",
     "output_type": "stream",
     "text": [
      "     adviser  amdahl  apollo  basf  bti  burroughs  c.r.d  cambex  cdc  dec  \\\n",
      "0          1       0       0     0    0          0      0       0    0    0   \n",
      "1          0       1       0     0    0          0      0       0    0    0   \n",
      "2          0       1       0     0    0          0      0       0    0    0   \n",
      "3          0       1       0     0    0          0      0       0    0    0   \n",
      "4          0       1       0     0    0          0      0       0    0    0   \n",
      "..       ...     ...     ...   ...  ...        ...    ...     ...  ...  ...   \n",
      "204        0       0       0     0    0          0      0       0    0    0   \n",
      "205        0       0       0     0    0          0      0       0    0    0   \n",
      "206        0       0       0     0    0          0      0       0    0    0   \n",
      "207        0       0       0     0    0          0      0       0    0    0   \n",
      "208        0       0       0     0    0          0      0       0    0    0   \n",
      "\n",
      "     ...  prime  siemens  sperry  sratus  wang         2      MMIN         4  \\\n",
      "0    ...      0        0       0       0     0  0.445334  0.251074  0.406469   \n",
      "1    ...      0        0       0       0     0  0.119215  0.874463  1.000000   \n",
      "2    ...      0        0       0       0     0  0.119215  0.874463  1.000000   \n",
      "3    ...      0        0       0       0     0  0.119215  0.874463  1.000000   \n",
      "4    ...      0        0       0       0     0  0.119215  0.874463  0.693395   \n",
      "..   ...    ...      ...     ...     ...   ...       ...       ...       ...   \n",
      "204  ...      0        0       1       0     0  0.443541  0.497852  0.476593   \n",
      "205  ...      0        0       1       0     0  0.391016  0.497852  0.476593   \n",
      "206  ...      0        0       0       1     0  0.445334  0.623389  0.476593   \n",
      "207  ...      0        0       0       0     1  0.745662  0.376611  0.476593   \n",
      "208  ...      0        0       0       0     1  0.745662  0.497852  0.323290   \n",
      "\n",
      "            5    6  \n",
      "0    1.000000  0.8  \n",
      "1    0.433861  0.6  \n",
      "2    0.433861  0.6  \n",
      "3    0.433861  0.6  \n",
      "4    0.433861  0.6  \n",
      "..        ...  ...  \n",
      "204  0.000000  0.0  \n",
      "205  0.433861  0.2  \n",
      "206  0.000000  0.2  \n",
      "207  0.433861  0.0  \n",
      "208  0.000000  0.0  \n",
      "\n",
      "[209 rows x 35 columns]\n"
     ]
    }
   ],
   "source": [
    "dataset['6'] = data\n",
    "print(dataset)"
   ]
  },
  {
   "cell_type": "code",
   "execution_count": 41,
   "metadata": {
    "scrolled": true
   },
   "outputs": [
    {
     "data": {
      "image/png": "[encoded data removed]",
      "text/plain": [
       "<Figure size 432x288 with 1 Axes>"
      ]
     },
     "metadata": {
      "needs_background": "light"
     },
     "output_type": "display_data"
    }
   ],
   "source": [
    "# Обработка данных в столбце №7 (CHMAX: maximum channels in units (integer))\n",
    "\n",
    "# Загружаем данные\n",
    "data = raw_dataset[7]\n",
    "\n",
    "# Анализируем распределение, используя гистограмму. Параметр bins отвечает за число столбцов в гистрограмме.\n",
    "matplotlib.pyplot.hist(data, bins = 50)\n",
    "matplotlib.pyplot.show()"
   ]
  },
  {
   "cell_type": "code",
   "execution_count": 42,
   "metadata": {
    "scrolled": false
   },
   "outputs": [
    {
     "data": {
      "image/png": "[encoded data removed]",
      "text/plain": [
       "<Figure size 432x288 with 1 Axes>"
      ]
     },
     "metadata": {
      "needs_background": "light"
     },
     "output_type": "display_data"
    }
   ],
   "source": [
    "# Наблюдаем проблему №4 - выбросы значений в интервале (100, 175). Применяем отсечение с разрешенным интервалом от 0 до 70.\n",
    "data = numpy.clip(data, 0, 70)\n",
    "\n",
    "# Результат\n",
    "matplotlib.pyplot.hist(data, bins = 50)\n",
    "matplotlib.pyplot.show()"
   ]
  },
  {
   "cell_type": "code",
   "execution_count": 43,
   "metadata": {
    "scrolled": true
   },
   "outputs": [
    {
     "data": {
      "image/png": "[encoded data removed]",
      "text/plain": [
       "<Figure size 432x288 with 1 Axes>"
      ]
     },
     "metadata": {
      "needs_background": "light"
     },
     "output_type": "display_data"
    }
   ],
   "source": [
    "# Наблюдаем проблему №3 - очень неравномерное распределение. Применять логарифм нельзя, т.к. среди значений есть нули.\n",
    "# Применим извлечение квадратного корня.\n",
    "\n",
    "matplotlib.pyplot.hist(data ** 0.5, bins = 50)\n",
    "matplotlib.pyplot.show()"
   ]
  },
  {
   "cell_type": "code",
   "execution_count": 44,
   "metadata": {},
   "outputs": [],
   "source": [
    "data = data ** 0.5"
   ]
  },
  {
   "cell_type": "code",
   "execution_count": 45,
   "metadata": {
    "scrolled": true
   },
   "outputs": [
    {
     "name": "stdout",
     "output_type": "stream",
     "text": [
      "0.0\n",
      "8.366600265340756\n"
     ]
    }
   ],
   "source": [
    "# Теперь данные имеют следующую область значений\n",
    "print(numpy.min(data))\n",
    "print(numpy.max(data))"
   ]
  },
  {
   "cell_type": "code",
   "execution_count": 46,
   "metadata": {},
   "outputs": [],
   "source": [
    "# Приводим значения к интервалу (0, 1), считая, что они ближе к равномерному распределению\n",
    "scaler = MinMaxScaler()\n",
    "data = numpy.array(data).reshape(-1,1)\n",
    "data = scaler.fit_transform(data)"
   ]
  },
  {
   "cell_type": "code",
   "execution_count": 47,
   "metadata": {},
   "outputs": [
    {
     "data": {
      "image/png": "[encoded data removed]",
      "text/plain": [
       "<Figure size 432x288 with 1 Axes>"
      ]
     },
     "metadata": {
      "needs_background": "light"
     },
     "output_type": "display_data"
    }
   ],
   "source": [
    "# Результат\n",
    "matplotlib.pyplot.hist(data, bins = 50)\n",
    "matplotlib.pyplot.show()"
   ]
  },
  {
   "cell_type": "code",
   "execution_count": 48,
   "metadata": {
    "scrolled": true
   },
   "outputs": [
    {
     "data": {
      "image/png": "[encoded data removed]",
      "text/plain": [
       "<Figure size 432x288 with 1 Axes>"
      ]
     },
     "metadata": {
      "needs_background": "light"
     },
     "output_type": "display_data"
    }
   ],
   "source": [
    "# Можем взглянуть на сами данные\n",
    "matplotlib.pyplot.plot(data)\n",
    "matplotlib.pyplot.show()"
   ]
  },
  {
   "cell_type": "code",
   "execution_count": 49,
   "metadata": {
    "scrolled": true
   },
   "outputs": [
    {
     "name": "stdout",
     "output_type": "stream",
     "text": [
      "2\n"
     ]
    }
   ],
   "source": [
    "# Проверяем и убеждаемся, что в процессе трансформации данные получили \"лишнее\" измерение\n",
    "print(data.ndim)"
   ]
  },
  {
   "cell_type": "code",
   "execution_count": 50,
   "metadata": {},
   "outputs": [],
   "source": [
    "# Конвертируем в одномерный массив\n",
    "data = data.flatten()"
   ]
  },
  {
   "cell_type": "code",
   "execution_count": 51,
   "metadata": {},
   "outputs": [],
   "source": [
    "# Сохраняем в итоговом наборе данных\n",
    "dataset['CHMAX'] = data"
   ]
  },
  {
   "cell_type": "code",
   "execution_count": 52,
   "metadata": {
    "scrolled": false
   },
   "outputs": [
    {
     "name": "stdout",
     "output_type": "stream",
     "text": [
      "     adviser  amdahl  apollo  basf  bti  burroughs  c.r.d  cambex  cdc  dec  \\\n",
      "0          1       0       0     0    0          0      0       0    0    0   \n",
      "1          0       1       0     0    0          0      0       0    0    0   \n",
      "2          0       1       0     0    0          0      0       0    0    0   \n",
      "3          0       1       0     0    0          0      0       0    0    0   \n",
      "4          0       1       0     0    0          0      0       0    0    0   \n",
      "..       ...     ...     ...   ...  ...        ...    ...     ...  ...  ...   \n",
      "204        0       0       0     0    0          0      0       0    0    0   \n",
      "205        0       0       0     0    0          0      0       0    0    0   \n",
      "206        0       0       0     0    0          0      0       0    0    0   \n",
      "207        0       0       0     0    0          0      0       0    0    0   \n",
      "208        0       0       0     0    0          0      0       0    0    0   \n",
      "\n",
      "     ...  siemens  sperry  sratus  wang         2      MMIN         4  \\\n",
      "0    ...        0       0       0     0  0.445334  0.251074  0.406469   \n",
      "1    ...        0       0       0     0  0.119215  0.874463  1.000000   \n",
      "2    ...        0       0       0     0  0.119215  0.874463  1.000000   \n",
      "3    ...        0       0       0     0  0.119215  0.874463  1.000000   \n",
      "4    ...        0       0       0     0  0.119215  0.874463  0.693395   \n",
      "..   ...      ...     ...     ...   ...       ...       ...       ...   \n",
      "204  ...        0       1       0     0  0.443541  0.497852  0.476593   \n",
      "205  ...        0       1       0     0  0.391016  0.497852  0.476593   \n",
      "206  ...        0       0       1     0  0.445334  0.623389  0.476593   \n",
      "207  ...        0       0       0     1  0.745662  0.376611  0.476593   \n",
      "208  ...        0       0       0     1  0.745662  0.497852  0.323290   \n",
      "\n",
      "            5    6     CHMAX  \n",
      "0    1.000000  0.8  1.000000  \n",
      "1    0.433861  0.6  0.676123  \n",
      "2    0.433861  0.6  0.676123  \n",
      "3    0.433861  0.6  0.676123  \n",
      "4    0.433861  0.6  0.478091  \n",
      "..        ...  ...       ...  \n",
      "204  0.000000  0.0  0.338062  \n",
      "205  0.433861  0.2  0.338062  \n",
      "206  0.000000  0.2  0.447214  \n",
      "207  0.433861  0.0  0.000000  \n",
      "208  0.000000  0.0  0.000000  \n",
      "\n",
      "[209 rows x 36 columns]\n"
     ]
    }
   ],
   "source": [
    "print(dataset)"
   ]
  },
  {
   "cell_type": "code",
   "execution_count": 53,
   "metadata": {},
   "outputs": [
    {
     "name": "stdout",
     "output_type": "stream",
     "text": [
      "0      198\n",
      "1      269\n",
      "2      220\n",
      "3      172\n",
      "4      132\n",
      "      ... \n",
      "204     42\n",
      "205     46\n",
      "206     52\n",
      "207     67\n",
      "208     45\n",
      "Name: 8, Length: 209, dtype: int64\n"
     ]
    },
    {
     "data": {
      "image/png": "[encoded data removed]",
      "text/plain": [
       "<Figure size 432x288 with 1 Axes>"
      ]
     },
     "metadata": {
      "needs_background": "light"
     },
     "output_type": "display_data"
    }
   ],
   "source": [
    "# Столбец №8\n",
    "data = raw_dataset[8]\n",
    "print(data)\n",
    "matplotlib.pyplot.hist(data, bins = 50)\n",
    "matplotlib.pyplot.show()"
   ]
  },
  {
   "cell_type": "code",
   "execution_count": 54,
   "metadata": {},
   "outputs": [
    {
     "data": {
      "image/png": "[encoded data removed]",
      "text/plain": [
       "<Figure size 432x288 with 1 Axes>"
      ]
     },
     "metadata": {
      "needs_background": "light"
     },
     "output_type": "display_data"
    }
   ],
   "source": [
    "data = numpy.clip(data, 0, 600)\n",
    "\n",
    "# Результат\n",
    "matplotlib.pyplot.hist(data, bins = 50)\n",
    "matplotlib.pyplot.show()"
   ]
  },
  {
   "cell_type": "code",
   "execution_count": 55,
   "metadata": {},
   "outputs": [
    {
     "data": {
      "image/png": "[encoded data removed]",
      "text/plain": [
       "<Figure size 432x288 with 1 Axes>"
      ]
     },
     "metadata": {
      "needs_background": "light"
     },
     "output_type": "display_data"
    },
    {
     "data": {
      "image/png": "[encoded data removed]",
      "text/plain": [
       "<Figure size 432x288 with 1 Axes>"
      ]
     },
     "metadata": {
      "needs_background": "light"
     },
     "output_type": "display_data"
    }
   ],
   "source": [
    "matplotlib.pyplot.hist(numpy.log(data), bins = 50)\n",
    "matplotlib.pyplot.show()\n",
    "\n",
    "matplotlib.pyplot.hist(data ** 0.5, bins = 50)\n",
    "matplotlib.pyplot.show()"
   ]
  },
  {
   "cell_type": "code",
   "execution_count": 56,
   "metadata": {
    "scrolled": true
   },
   "outputs": [
    {
     "data": {
      "image/png": "[encoded data removed]",
      "text/plain": [
       "<Figure size 432x288 with 1 Axes>"
      ]
     },
     "metadata": {
      "needs_background": "light"
     },
     "output_type": "display_data"
    }
   ],
   "source": [
    "data = numpy.log(data)\n",
    "sscaler = MinMaxScaler()\n",
    "data = numpy.array(data).reshape(-1,1)\n",
    "data = scaler.fit_transform(data)\n",
    "data = data.flatten()\n",
    "matplotlib.pyplot.hist(data, bins = 50)\n",
    "matplotlib.pyplot.show()"
   ]
  },
  {
   "cell_type": "code",
   "execution_count": 57,
   "metadata": {},
   "outputs": [
    {
     "name": "stdout",
     "output_type": "stream",
     "text": [
      "     adviser  amdahl  apollo  basf  bti  burroughs  c.r.d  cambex  cdc  dec  \\\n",
      "0          1       0       0     0    0          0      0       0    0    0   \n",
      "1          0       1       0     0    0          0      0       0    0    0   \n",
      "2          0       1       0     0    0          0      0       0    0    0   \n",
      "3          0       1       0     0    0          0      0       0    0    0   \n",
      "4          0       1       0     0    0          0      0       0    0    0   \n",
      "..       ...     ...     ...   ...  ...        ...    ...     ...  ...  ...   \n",
      "204        0       0       0     0    0          0      0       0    0    0   \n",
      "205        0       0       0     0    0          0      0       0    0    0   \n",
      "206        0       0       0     0    0          0      0       0    0    0   \n",
      "207        0       0       0     0    0          0      0       0    0    0   \n",
      "208        0       0       0     0    0          0      0       0    0    0   \n",
      "\n",
      "     ...  sperry  sratus  wang         2      MMIN         4         5    6  \\\n",
      "0    ...       0       0     0  0.445334  0.251074  0.406469  1.000000  0.8   \n",
      "1    ...       0       0     0  0.119215  0.874463  1.000000  0.433861  0.6   \n",
      "2    ...       0       0     0  0.119215  0.874463  1.000000  0.433861  0.6   \n",
      "3    ...       0       0     0  0.119215  0.874463  1.000000  0.433861  0.6   \n",
      "4    ...       0       0     0  0.119215  0.874463  0.693395  0.433861  0.6   \n",
      "..   ...     ...     ...   ...       ...       ...       ...       ...  ...   \n",
      "204  ...       1       0     0  0.443541  0.497852  0.476593  0.000000  0.0   \n",
      "205  ...       1       0     0  0.391016  0.497852  0.476593  0.433861  0.2   \n",
      "206  ...       0       1     0  0.445334  0.623389  0.476593  0.000000  0.2   \n",
      "207  ...       0       0     1  0.745662  0.376611  0.476593  0.433861  0.0   \n",
      "208  ...       0       0     1  0.745662  0.497852  0.323290  0.000000  0.0   \n",
      "\n",
      "        CHMAX         8  \n",
      "0    1.000000  0.759257  \n",
      "1    0.676123  0.825801  \n",
      "2    0.676123  0.782136  \n",
      "3    0.676123  0.728689  \n",
      "4    0.478091  0.671211  \n",
      "..        ...       ...  \n",
      "204  0.338062  0.422549  \n",
      "205  0.338062  0.442303  \n",
      "206  0.447214  0.468926  \n",
      "207  0.000000  0.523962  \n",
      "208  0.000000  0.437531  \n",
      "\n",
      "[209 rows x 37 columns]\n"
     ]
    }
   ],
   "source": [
    "dataset['8'] = data\n",
    "print(dataset)"
   ]
  },
  {
   "cell_type": "code",
   "execution_count": 58,
   "metadata": {},
   "outputs": [],
   "source": [
    "dataset.to_csv('prepared_data.csv')"
   ]
  },
  {
   "cell_type": "code",
   "execution_count": null,
   "metadata": {},
   "outputs": [],
   "source": []
  },
  {
   "cell_type": "code",
   "execution_count": null,
   "metadata": {},
   "outputs": [],
   "source": []
  }
 ],
 "metadata": {
  "kernelspec": {
   "display_name": "Python 3",
   "language": "python",
   "name": "python3"
  },
  "language_info": {
   "codemirror_mode": {
    "name": "ipython",
    "version": 3
   },
   "file_extension": ".py",
   "mimetype": "text/x-python",
   "name": "python",
   "nbconvert_exporter": "python",
   "pygments_lexer": "ipython3",
   "version": "3.6.12"
  }
 },
 "nbformat": 4,
 "nbformat_minor": 2
}
